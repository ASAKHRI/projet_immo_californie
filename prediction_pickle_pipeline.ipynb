{
 "cells": [
  {
   "cell_type": "code",
   "execution_count": 1,
   "id": "fe8da566",
   "metadata": {},
   "outputs": [],
   "source": [
    "# import des librairies de bases\n",
    "import pandas as pd\n",
    "import numpy as np\n",
    "\n",
    "\n",
    "\n",
    "# import des librairies de préprocessing\n",
    "from sklearn.preprocessing import RobustScaler\n",
    "\n",
    "\n",
    "# import des librairies machine learning\n",
    "from sklearn.model_selection import train_test_split\n",
    "from sklearn.metrics import mean_absolute_error, r2_score, mean_squared_error\n",
    "\n",
    "# Importation des librairies nécessaires\n",
    "from sklearn.pipeline import Pipeline\n",
    "from sklearn.linear_model import LinearRegression\n",
    "from sklearn.model_selection import cross_val_score\n",
    "import pickle"
   ]
  },
  {
   "cell_type": "code",
   "execution_count": 2,
   "id": "590902e0",
   "metadata": {},
   "outputs": [],
   "source": [
    "df = pd.read_csv('immo_df.csv')"
   ]
  },
  {
   "cell_type": "code",
   "execution_count": 3,
   "id": "d3d24100",
   "metadata": {},
   "outputs": [
    {
     "data": {
      "text/plain": [
       "Unnamed: 0              0\n",
       "longitude               0\n",
       "latitude                0\n",
       "housing_median_age      0\n",
       "total_rooms             0\n",
       "total_bedrooms        176\n",
       "population              0\n",
       "households              0\n",
       "median_income           0\n",
       "median_house_value      0\n",
       "ocean_proximity         0\n",
       "dtype: int64"
      ]
     },
     "execution_count": 3,
     "metadata": {},
     "output_type": "execute_result"
    }
   ],
   "source": [
    "df.isna().sum()"
   ]
  },
  {
   "cell_type": "code",
   "execution_count": 4,
   "id": "a5214b09",
   "metadata": {},
   "outputs": [
    {
     "data": {
      "text/html": [
       "<div>\n",
       "<style scoped>\n",
       "    .dataframe tbody tr th:only-of-type {\n",
       "        vertical-align: middle;\n",
       "    }\n",
       "\n",
       "    .dataframe tbody tr th {\n",
       "        vertical-align: top;\n",
       "    }\n",
       "\n",
       "    .dataframe thead th {\n",
       "        text-align: right;\n",
       "    }\n",
       "</style>\n",
       "<table border=\"1\" class=\"dataframe\">\n",
       "  <thead>\n",
       "    <tr style=\"text-align: right;\">\n",
       "      <th></th>\n",
       "      <th>longitude</th>\n",
       "      <th>latitude</th>\n",
       "      <th>housing_median_age</th>\n",
       "      <th>total_rooms</th>\n",
       "      <th>total_bedrooms</th>\n",
       "      <th>population</th>\n",
       "      <th>households</th>\n",
       "      <th>median_income</th>\n",
       "      <th>median_house_value</th>\n",
       "      <th>ocean_proximity</th>\n",
       "    </tr>\n",
       "  </thead>\n",
       "  <tbody>\n",
       "    <tr>\n",
       "      <th>0</th>\n",
       "      <td>-119.84</td>\n",
       "      <td>36.77</td>\n",
       "      <td>6.0</td>\n",
       "      <td>1853.0</td>\n",
       "      <td>473.0</td>\n",
       "      <td>1397.0</td>\n",
       "      <td>417.0</td>\n",
       "      <td>1.4817</td>\n",
       "      <td>72000.0</td>\n",
       "      <td>INLAND</td>\n",
       "    </tr>\n",
       "    <tr>\n",
       "      <th>1</th>\n",
       "      <td>-117.80</td>\n",
       "      <td>33.68</td>\n",
       "      <td>8.0</td>\n",
       "      <td>2032.0</td>\n",
       "      <td>349.0</td>\n",
       "      <td>862.0</td>\n",
       "      <td>340.0</td>\n",
       "      <td>6.9133</td>\n",
       "      <td>274100.0</td>\n",
       "      <td>&lt;1H OCEAN</td>\n",
       "    </tr>\n",
       "    <tr>\n",
       "      <th>2</th>\n",
       "      <td>-120.19</td>\n",
       "      <td>36.60</td>\n",
       "      <td>25.0</td>\n",
       "      <td>875.0</td>\n",
       "      <td>214.0</td>\n",
       "      <td>931.0</td>\n",
       "      <td>214.0</td>\n",
       "      <td>1.5536</td>\n",
       "      <td>58300.0</td>\n",
       "      <td>INLAND</td>\n",
       "    </tr>\n",
       "    <tr>\n",
       "      <th>3</th>\n",
       "      <td>-118.32</td>\n",
       "      <td>34.10</td>\n",
       "      <td>31.0</td>\n",
       "      <td>622.0</td>\n",
       "      <td>229.0</td>\n",
       "      <td>597.0</td>\n",
       "      <td>227.0</td>\n",
       "      <td>1.5284</td>\n",
       "      <td>200000.0</td>\n",
       "      <td>&lt;1H OCEAN</td>\n",
       "    </tr>\n",
       "    <tr>\n",
       "      <th>4</th>\n",
       "      <td>-121.23</td>\n",
       "      <td>37.79</td>\n",
       "      <td>21.0</td>\n",
       "      <td>1922.0</td>\n",
       "      <td>373.0</td>\n",
       "      <td>1130.0</td>\n",
       "      <td>372.0</td>\n",
       "      <td>4.0815</td>\n",
       "      <td>117900.0</td>\n",
       "      <td>INLAND</td>\n",
       "    </tr>\n",
       "  </tbody>\n",
       "</table>\n",
       "</div>"
      ],
      "text/plain": [
       "   longitude  latitude  housing_median_age  total_rooms  total_bedrooms  \\\n",
       "0    -119.84     36.77                 6.0       1853.0           473.0   \n",
       "1    -117.80     33.68                 8.0       2032.0           349.0   \n",
       "2    -120.19     36.60                25.0        875.0           214.0   \n",
       "3    -118.32     34.10                31.0        622.0           229.0   \n",
       "4    -121.23     37.79                21.0       1922.0           373.0   \n",
       "\n",
       "   population  households  median_income  median_house_value ocean_proximity  \n",
       "0      1397.0       417.0         1.4817             72000.0          INLAND  \n",
       "1       862.0       340.0         6.9133            274100.0       <1H OCEAN  \n",
       "2       931.0       214.0         1.5536             58300.0          INLAND  \n",
       "3       597.0       227.0         1.5284            200000.0       <1H OCEAN  \n",
       "4      1130.0       372.0         4.0815            117900.0          INLAND  "
      ]
     },
     "execution_count": 4,
     "metadata": {},
     "output_type": "execute_result"
    }
   ],
   "source": [
    "df = df.drop(\"Unnamed: 0\", axis=1)\n",
    "df.head()"
   ]
  },
  {
   "cell_type": "code",
   "execution_count": 5,
   "id": "b2c16112",
   "metadata": {},
   "outputs": [],
   "source": [
    "df = df.dropna()"
   ]
  },
  {
   "cell_type": "code",
   "execution_count": 6,
   "id": "37c1d382",
   "metadata": {},
   "outputs": [
    {
     "data": {
      "text/html": [
       "<div>\n",
       "<style scoped>\n",
       "    .dataframe tbody tr th:only-of-type {\n",
       "        vertical-align: middle;\n",
       "    }\n",
       "\n",
       "    .dataframe tbody tr th {\n",
       "        vertical-align: top;\n",
       "    }\n",
       "\n",
       "    .dataframe thead th {\n",
       "        text-align: right;\n",
       "    }\n",
       "</style>\n",
       "<table border=\"1\" class=\"dataframe\">\n",
       "  <thead>\n",
       "    <tr style=\"text-align: right;\">\n",
       "      <th></th>\n",
       "      <th>longitude</th>\n",
       "      <th>latitude</th>\n",
       "      <th>housing_median_age</th>\n",
       "      <th>total_rooms</th>\n",
       "      <th>total_bedrooms</th>\n",
       "      <th>population</th>\n",
       "      <th>households</th>\n",
       "      <th>median_income</th>\n",
       "      <th>median_house_value</th>\n",
       "      <th>ocean_proximity_&lt;1H OCEAN</th>\n",
       "      <th>ocean_proximity_INLAND</th>\n",
       "      <th>ocean_proximity_ISLAND</th>\n",
       "      <th>ocean_proximity_NEAR BAY</th>\n",
       "      <th>ocean_proximity_NEAR OCEAN</th>\n",
       "    </tr>\n",
       "  </thead>\n",
       "  <tbody>\n",
       "    <tr>\n",
       "      <th>0</th>\n",
       "      <td>-119.84</td>\n",
       "      <td>36.77</td>\n",
       "      <td>6.0</td>\n",
       "      <td>1853.0</td>\n",
       "      <td>473.0</td>\n",
       "      <td>1397.0</td>\n",
       "      <td>417.0</td>\n",
       "      <td>1.4817</td>\n",
       "      <td>72000.0</td>\n",
       "      <td>0</td>\n",
       "      <td>1</td>\n",
       "      <td>0</td>\n",
       "      <td>0</td>\n",
       "      <td>0</td>\n",
       "    </tr>\n",
       "    <tr>\n",
       "      <th>1</th>\n",
       "      <td>-117.80</td>\n",
       "      <td>33.68</td>\n",
       "      <td>8.0</td>\n",
       "      <td>2032.0</td>\n",
       "      <td>349.0</td>\n",
       "      <td>862.0</td>\n",
       "      <td>340.0</td>\n",
       "      <td>6.9133</td>\n",
       "      <td>274100.0</td>\n",
       "      <td>1</td>\n",
       "      <td>0</td>\n",
       "      <td>0</td>\n",
       "      <td>0</td>\n",
       "      <td>0</td>\n",
       "    </tr>\n",
       "    <tr>\n",
       "      <th>2</th>\n",
       "      <td>-120.19</td>\n",
       "      <td>36.60</td>\n",
       "      <td>25.0</td>\n",
       "      <td>875.0</td>\n",
       "      <td>214.0</td>\n",
       "      <td>931.0</td>\n",
       "      <td>214.0</td>\n",
       "      <td>1.5536</td>\n",
       "      <td>58300.0</td>\n",
       "      <td>0</td>\n",
       "      <td>1</td>\n",
       "      <td>0</td>\n",
       "      <td>0</td>\n",
       "      <td>0</td>\n",
       "    </tr>\n",
       "    <tr>\n",
       "      <th>3</th>\n",
       "      <td>-118.32</td>\n",
       "      <td>34.10</td>\n",
       "      <td>31.0</td>\n",
       "      <td>622.0</td>\n",
       "      <td>229.0</td>\n",
       "      <td>597.0</td>\n",
       "      <td>227.0</td>\n",
       "      <td>1.5284</td>\n",
       "      <td>200000.0</td>\n",
       "      <td>1</td>\n",
       "      <td>0</td>\n",
       "      <td>0</td>\n",
       "      <td>0</td>\n",
       "      <td>0</td>\n",
       "    </tr>\n",
       "    <tr>\n",
       "      <th>4</th>\n",
       "      <td>-121.23</td>\n",
       "      <td>37.79</td>\n",
       "      <td>21.0</td>\n",
       "      <td>1922.0</td>\n",
       "      <td>373.0</td>\n",
       "      <td>1130.0</td>\n",
       "      <td>372.0</td>\n",
       "      <td>4.0815</td>\n",
       "      <td>117900.0</td>\n",
       "      <td>0</td>\n",
       "      <td>1</td>\n",
       "      <td>0</td>\n",
       "      <td>0</td>\n",
       "      <td>0</td>\n",
       "    </tr>\n",
       "    <tr>\n",
       "      <th>...</th>\n",
       "      <td>...</td>\n",
       "      <td>...</td>\n",
       "      <td>...</td>\n",
       "      <td>...</td>\n",
       "      <td>...</td>\n",
       "      <td>...</td>\n",
       "      <td>...</td>\n",
       "      <td>...</td>\n",
       "      <td>...</td>\n",
       "      <td>...</td>\n",
       "      <td>...</td>\n",
       "      <td>...</td>\n",
       "      <td>...</td>\n",
       "      <td>...</td>\n",
       "    </tr>\n",
       "    <tr>\n",
       "      <th>16507</th>\n",
       "      <td>-121.90</td>\n",
       "      <td>39.59</td>\n",
       "      <td>20.0</td>\n",
       "      <td>1465.0</td>\n",
       "      <td>278.0</td>\n",
       "      <td>745.0</td>\n",
       "      <td>250.0</td>\n",
       "      <td>3.0625</td>\n",
       "      <td>93800.0</td>\n",
       "      <td>0</td>\n",
       "      <td>1</td>\n",
       "      <td>0</td>\n",
       "      <td>0</td>\n",
       "      <td>0</td>\n",
       "    </tr>\n",
       "    <tr>\n",
       "      <th>16508</th>\n",
       "      <td>-122.25</td>\n",
       "      <td>38.11</td>\n",
       "      <td>49.0</td>\n",
       "      <td>2365.0</td>\n",
       "      <td>504.0</td>\n",
       "      <td>1131.0</td>\n",
       "      <td>458.0</td>\n",
       "      <td>2.6133</td>\n",
       "      <td>103100.0</td>\n",
       "      <td>0</td>\n",
       "      <td>0</td>\n",
       "      <td>0</td>\n",
       "      <td>1</td>\n",
       "      <td>0</td>\n",
       "    </tr>\n",
       "    <tr>\n",
       "      <th>16509</th>\n",
       "      <td>-121.22</td>\n",
       "      <td>38.92</td>\n",
       "      <td>19.0</td>\n",
       "      <td>2531.0</td>\n",
       "      <td>461.0</td>\n",
       "      <td>1206.0</td>\n",
       "      <td>429.0</td>\n",
       "      <td>4.4958</td>\n",
       "      <td>192600.0</td>\n",
       "      <td>0</td>\n",
       "      <td>1</td>\n",
       "      <td>0</td>\n",
       "      <td>0</td>\n",
       "      <td>0</td>\n",
       "    </tr>\n",
       "    <tr>\n",
       "      <th>16510</th>\n",
       "      <td>-118.14</td>\n",
       "      <td>34.16</td>\n",
       "      <td>39.0</td>\n",
       "      <td>2776.0</td>\n",
       "      <td>840.0</td>\n",
       "      <td>2546.0</td>\n",
       "      <td>773.0</td>\n",
       "      <td>2.5750</td>\n",
       "      <td>153500.0</td>\n",
       "      <td>1</td>\n",
       "      <td>0</td>\n",
       "      <td>0</td>\n",
       "      <td>0</td>\n",
       "      <td>0</td>\n",
       "    </tr>\n",
       "    <tr>\n",
       "      <th>16511</th>\n",
       "      <td>-124.13</td>\n",
       "      <td>40.80</td>\n",
       "      <td>31.0</td>\n",
       "      <td>2152.0</td>\n",
       "      <td>462.0</td>\n",
       "      <td>1259.0</td>\n",
       "      <td>420.0</td>\n",
       "      <td>2.2478</td>\n",
       "      <td>81100.0</td>\n",
       "      <td>0</td>\n",
       "      <td>0</td>\n",
       "      <td>0</td>\n",
       "      <td>0</td>\n",
       "      <td>1</td>\n",
       "    </tr>\n",
       "  </tbody>\n",
       "</table>\n",
       "<p>16336 rows × 14 columns</p>\n",
       "</div>"
      ],
      "text/plain": [
       "       longitude  latitude  housing_median_age  total_rooms  total_bedrooms  \\\n",
       "0        -119.84     36.77                 6.0       1853.0           473.0   \n",
       "1        -117.80     33.68                 8.0       2032.0           349.0   \n",
       "2        -120.19     36.60                25.0        875.0           214.0   \n",
       "3        -118.32     34.10                31.0        622.0           229.0   \n",
       "4        -121.23     37.79                21.0       1922.0           373.0   \n",
       "...          ...       ...                 ...          ...             ...   \n",
       "16507    -121.90     39.59                20.0       1465.0           278.0   \n",
       "16508    -122.25     38.11                49.0       2365.0           504.0   \n",
       "16509    -121.22     38.92                19.0       2531.0           461.0   \n",
       "16510    -118.14     34.16                39.0       2776.0           840.0   \n",
       "16511    -124.13     40.80                31.0       2152.0           462.0   \n",
       "\n",
       "       population  households  median_income  median_house_value  \\\n",
       "0          1397.0       417.0         1.4817             72000.0   \n",
       "1           862.0       340.0         6.9133            274100.0   \n",
       "2           931.0       214.0         1.5536             58300.0   \n",
       "3           597.0       227.0         1.5284            200000.0   \n",
       "4          1130.0       372.0         4.0815            117900.0   \n",
       "...           ...         ...            ...                 ...   \n",
       "16507       745.0       250.0         3.0625             93800.0   \n",
       "16508      1131.0       458.0         2.6133            103100.0   \n",
       "16509      1206.0       429.0         4.4958            192600.0   \n",
       "16510      2546.0       773.0         2.5750            153500.0   \n",
       "16511      1259.0       420.0         2.2478             81100.0   \n",
       "\n",
       "       ocean_proximity_<1H OCEAN  ocean_proximity_INLAND  \\\n",
       "0                              0                       1   \n",
       "1                              1                       0   \n",
       "2                              0                       1   \n",
       "3                              1                       0   \n",
       "4                              0                       1   \n",
       "...                          ...                     ...   \n",
       "16507                          0                       1   \n",
       "16508                          0                       0   \n",
       "16509                          0                       1   \n",
       "16510                          1                       0   \n",
       "16511                          0                       0   \n",
       "\n",
       "       ocean_proximity_ISLAND  ocean_proximity_NEAR BAY  \\\n",
       "0                           0                         0   \n",
       "1                           0                         0   \n",
       "2                           0                         0   \n",
       "3                           0                         0   \n",
       "4                           0                         0   \n",
       "...                       ...                       ...   \n",
       "16507                       0                         0   \n",
       "16508                       0                         1   \n",
       "16509                       0                         0   \n",
       "16510                       0                         0   \n",
       "16511                       0                         0   \n",
       "\n",
       "       ocean_proximity_NEAR OCEAN  \n",
       "0                               0  \n",
       "1                               0  \n",
       "2                               0  \n",
       "3                               0  \n",
       "4                               0  \n",
       "...                           ...  \n",
       "16507                           0  \n",
       "16508                           0  \n",
       "16509                           0  \n",
       "16510                           0  \n",
       "16511                           1  \n",
       "\n",
       "[16336 rows x 14 columns]"
      ]
     },
     "execution_count": 6,
     "metadata": {},
     "output_type": "execute_result"
    }
   ],
   "source": [
    "df = pd.get_dummies(df)\n",
    "df"
   ]
  },
  {
   "cell_type": "code",
   "execution_count": 7,
   "id": "5bc58dcf",
   "metadata": {},
   "outputs": [],
   "source": [
    "# séparation des features et de la target\n",
    "X = df.drop(\"median_house_value\", axis=1)\n",
    "y = df[\"median_house_value\"]\n"
   ]
  },
  {
   "cell_type": "code",
   "execution_count": 8,
   "id": "948bce29",
   "metadata": {},
   "outputs": [
    {
     "data": {
      "text/plain": [
       "['longitude',\n",
       " 'latitude',\n",
       " 'housing_median_age',\n",
       " 'total_rooms',\n",
       " 'total_bedrooms',\n",
       " 'population',\n",
       " 'households',\n",
       " 'median_income',\n",
       " 'ocean_proximity_<1H OCEAN',\n",
       " 'ocean_proximity_INLAND',\n",
       " 'ocean_proximity_ISLAND',\n",
       " 'ocean_proximity_NEAR BAY',\n",
       " 'ocean_proximity_NEAR OCEAN']"
      ]
     },
     "execution_count": 8,
     "metadata": {},
     "output_type": "execute_result"
    }
   ],
   "source": [
    "list(X.columns)"
   ]
  },
  {
   "cell_type": "code",
   "execution_count": 9,
   "id": "df9796ac",
   "metadata": {},
   "outputs": [],
   "source": [
    "X['housing_median_age'] = pd.DataFrame(np.log(abs(X['housing_median_age'])))\n",
    "X['total_rooms'] = pd.DataFrame(np.log(abs(X['total_rooms'])))\n",
    "X['total_bedrooms'] = pd.DataFrame(np.log(abs(X['total_bedrooms'])))\n",
    "X['population'] = pd.DataFrame(np.log(abs(X['population'])))\n",
    "X['households'] = pd.DataFrame(np.log(abs(X['households'])))\n",
    "X['median_income'] = pd.DataFrame(np.log(abs(X['median_income'])))"
   ]
  },
  {
   "cell_type": "code",
   "execution_count": 10,
   "id": "387255fb",
   "metadata": {},
   "outputs": [],
   "source": [
    "y =  pd.DataFrame(np.log(abs(y)))"
   ]
  },
  {
   "cell_type": "code",
   "execution_count": 11,
   "id": "a3fee652",
   "metadata": {},
   "outputs": [],
   "source": [
    "# création du jeu de train et de test\n",
    "X_train, X_test, y_train, y_test = train_test_split(X, y, test_size = 0.20, random_state = 0)"
   ]
  },
  {
   "cell_type": "code",
   "execution_count": 12,
   "id": "6b2d8d40",
   "metadata": {},
   "outputs": [],
   "source": [
    "# création d'un pipeline de normalisation et du choix du modèle\n",
    "pipeline = Pipeline([\n",
    "    ('regression', LinearRegression())\n",
    "])"
   ]
  },
  {
   "cell_type": "code",
   "execution_count": 13,
   "id": "4456caf7",
   "metadata": {},
   "outputs": [
    {
     "data": {
      "text/html": [
       "<style>#sk-container-id-1 {color: black;background-color: white;}#sk-container-id-1 pre{padding: 0;}#sk-container-id-1 div.sk-toggleable {background-color: white;}#sk-container-id-1 label.sk-toggleable__label {cursor: pointer;display: block;width: 100%;margin-bottom: 0;padding: 0.3em;box-sizing: border-box;text-align: center;}#sk-container-id-1 label.sk-toggleable__label-arrow:before {content: \"▸\";float: left;margin-right: 0.25em;color: #696969;}#sk-container-id-1 label.sk-toggleable__label-arrow:hover:before {color: black;}#sk-container-id-1 div.sk-estimator:hover label.sk-toggleable__label-arrow:before {color: black;}#sk-container-id-1 div.sk-toggleable__content {max-height: 0;max-width: 0;overflow: hidden;text-align: left;background-color: #f0f8ff;}#sk-container-id-1 div.sk-toggleable__content pre {margin: 0.2em;color: black;border-radius: 0.25em;background-color: #f0f8ff;}#sk-container-id-1 input.sk-toggleable__control:checked~div.sk-toggleable__content {max-height: 200px;max-width: 100%;overflow: auto;}#sk-container-id-1 input.sk-toggleable__control:checked~label.sk-toggleable__label-arrow:before {content: \"▾\";}#sk-container-id-1 div.sk-estimator input.sk-toggleable__control:checked~label.sk-toggleable__label {background-color: #d4ebff;}#sk-container-id-1 div.sk-label input.sk-toggleable__control:checked~label.sk-toggleable__label {background-color: #d4ebff;}#sk-container-id-1 input.sk-hidden--visually {border: 0;clip: rect(1px 1px 1px 1px);clip: rect(1px, 1px, 1px, 1px);height: 1px;margin: -1px;overflow: hidden;padding: 0;position: absolute;width: 1px;}#sk-container-id-1 div.sk-estimator {font-family: monospace;background-color: #f0f8ff;border: 1px dotted black;border-radius: 0.25em;box-sizing: border-box;margin-bottom: 0.5em;}#sk-container-id-1 div.sk-estimator:hover {background-color: #d4ebff;}#sk-container-id-1 div.sk-parallel-item::after {content: \"\";width: 100%;border-bottom: 1px solid gray;flex-grow: 1;}#sk-container-id-1 div.sk-label:hover label.sk-toggleable__label {background-color: #d4ebff;}#sk-container-id-1 div.sk-serial::before {content: \"\";position: absolute;border-left: 1px solid gray;box-sizing: border-box;top: 0;bottom: 0;left: 50%;z-index: 0;}#sk-container-id-1 div.sk-serial {display: flex;flex-direction: column;align-items: center;background-color: white;padding-right: 0.2em;padding-left: 0.2em;position: relative;}#sk-container-id-1 div.sk-item {position: relative;z-index: 1;}#sk-container-id-1 div.sk-parallel {display: flex;align-items: stretch;justify-content: center;background-color: white;position: relative;}#sk-container-id-1 div.sk-item::before, #sk-container-id-1 div.sk-parallel-item::before {content: \"\";position: absolute;border-left: 1px solid gray;box-sizing: border-box;top: 0;bottom: 0;left: 50%;z-index: -1;}#sk-container-id-1 div.sk-parallel-item {display: flex;flex-direction: column;z-index: 1;position: relative;background-color: white;}#sk-container-id-1 div.sk-parallel-item:first-child::after {align-self: flex-end;width: 50%;}#sk-container-id-1 div.sk-parallel-item:last-child::after {align-self: flex-start;width: 50%;}#sk-container-id-1 div.sk-parallel-item:only-child::after {width: 0;}#sk-container-id-1 div.sk-dashed-wrapped {border: 1px dashed gray;margin: 0 0.4em 0.5em 0.4em;box-sizing: border-box;padding-bottom: 0.4em;background-color: white;}#sk-container-id-1 div.sk-label label {font-family: monospace;font-weight: bold;display: inline-block;line-height: 1.2em;}#sk-container-id-1 div.sk-label-container {text-align: center;}#sk-container-id-1 div.sk-container {/* jupyter's `normalize.less` sets `[hidden] { display: none; }` but bootstrap.min.css set `[hidden] { display: none !important; }` so we also need the `!important` here to be able to override the default hidden behavior on the sphinx rendered scikit-learn.org. See: https://github.com/scikit-learn/scikit-learn/issues/21755 */display: inline-block !important;position: relative;}#sk-container-id-1 div.sk-text-repr-fallback {display: none;}</style><div id=\"sk-container-id-1\" class=\"sk-top-container\"><div class=\"sk-text-repr-fallback\"><pre>Pipeline(steps=[(&#x27;regression&#x27;, LinearRegression())])</pre><b>In a Jupyter environment, please rerun this cell to show the HTML representation or trust the notebook. <br />On GitHub, the HTML representation is unable to render, please try loading this page with nbviewer.org.</b></div><div class=\"sk-container\" hidden><div class=\"sk-item sk-dashed-wrapped\"><div class=\"sk-label-container\"><div class=\"sk-label sk-toggleable\"><input class=\"sk-toggleable__control sk-hidden--visually\" id=\"sk-estimator-id-1\" type=\"checkbox\" ><label for=\"sk-estimator-id-1\" class=\"sk-toggleable__label sk-toggleable__label-arrow\">Pipeline</label><div class=\"sk-toggleable__content\"><pre>Pipeline(steps=[(&#x27;regression&#x27;, LinearRegression())])</pre></div></div></div><div class=\"sk-serial\"><div class=\"sk-item\"><div class=\"sk-estimator sk-toggleable\"><input class=\"sk-toggleable__control sk-hidden--visually\" id=\"sk-estimator-id-2\" type=\"checkbox\" ><label for=\"sk-estimator-id-2\" class=\"sk-toggleable__label sk-toggleable__label-arrow\">LinearRegression</label><div class=\"sk-toggleable__content\"><pre>LinearRegression()</pre></div></div></div></div></div></div></div>"
      ],
      "text/plain": [
       "Pipeline(steps=[('regression', LinearRegression())])"
      ]
     },
     "execution_count": 13,
     "metadata": {},
     "output_type": "execute_result"
    }
   ],
   "source": [
    "# Entraîner le modèle sur les données de formation\n",
    "pipeline.fit(X_train, y_train)"
   ]
  },
  {
   "cell_type": "code",
   "execution_count": 14,
   "id": "8b1509ea",
   "metadata": {},
   "outputs": [],
   "source": [
    "# Faire des prédictions sur les données de test\n",
    "y_pred = pipeline.predict(X_test)"
   ]
  },
  {
   "cell_type": "code",
   "execution_count": 15,
   "id": "f95b4a53",
   "metadata": {},
   "outputs": [
    {
     "name": "stdout",
     "output_type": "stream",
     "text": [
      "MAE : 0.2382253559974057\n",
      "R2 score : 0.7019796191119421\n",
      "MSE : 0.09917442738047878\n",
      "RMSE : 0.3149197157697161\n"
     ]
    }
   ],
   "source": [
    "# Calculer les metrics\n",
    "mae = mean_absolute_error(y_test, y_pred)\n",
    "r2 = r2_score(y_test, y_pred)\n",
    "mse = mean_squared_error(y_test, y_pred)\n",
    "rmse = np.sqrt(mse)\n",
    "\n",
    "\n",
    "# Imprimer les scores\n",
    "print(\"MAE :\", mae)\n",
    "print(\"R2 score :\", r2)\n",
    "print(\"MSE :\", mse)\n",
    "print(\"RMSE :\", rmse)"
   ]
  },
  {
   "cell_type": "code",
   "execution_count": 16,
   "id": "33fde397",
   "metadata": {},
   "outputs": [
    {
     "name": "stdout",
     "output_type": "stream",
     "text": [
      "MAE moyen pour la validation croisée : 0.23603539997678497\n"
     ]
    }
   ],
   "source": [
    "# Effectuer la validation croisée\n",
    "scores = cross_val_score(pipeline, X_train, y_train, scoring='neg_mean_absolute_error', cv=10)\n",
    "print(\"MAE moyen pour la validation croisée :\", -scores.mean())"
   ]
  },
  {
   "cell_type": "code",
   "execution_count": 18,
   "id": "af8eb882",
   "metadata": {},
   "outputs": [],
   "source": [
    "# Enregistrer le modèle dans un fichier pickle\n",
    "pickle.dump(pipeline, open(\"model_log.pkl\", \"wb\"))"
   ]
  },
  {
   "cell_type": "markdown",
   "id": "43b28cb2",
   "metadata": {},
   "source": [
    "## model 2 avec robust scaler"
   ]
  },
  {
   "cell_type": "code",
   "execution_count": 19,
   "id": "5230ffd9",
   "metadata": {},
   "outputs": [],
   "source": [
    "# séparation des features et de la target\n",
    "X = df.drop(\"median_house_value\", axis=1)\n",
    "y = df[\"median_house_value\"]\n",
    "\n",
    "# création du jeu de train et de test\n",
    "X_train, X_test, y_train, y_test = train_test_split(X, y, test_size = 0.20, random_state = 0)"
   ]
  },
  {
   "cell_type": "code",
   "execution_count": 20,
   "id": "199c1c0f",
   "metadata": {},
   "outputs": [],
   "source": [
    "# création du jeu de train et de test\n",
    "X_train, X_test, y_train, y_test = train_test_split(X, y, test_size = 0.20, random_state = 0)"
   ]
  },
  {
   "cell_type": "code",
   "execution_count": 21,
   "id": "45a855a4",
   "metadata": {},
   "outputs": [],
   "source": [
    "# création d'un pipeline de normalisation et du choix du modèle\n",
    "pipeline = Pipeline([\n",
    "    ('scaler', RobustScaler()),\n",
    "    ('regression', LinearRegression())\n",
    "])"
   ]
  },
  {
   "cell_type": "code",
   "execution_count": 22,
   "id": "1af55721",
   "metadata": {},
   "outputs": [
    {
     "data": {
      "text/html": [
       "<style>#sk-container-id-2 {color: black;background-color: white;}#sk-container-id-2 pre{padding: 0;}#sk-container-id-2 div.sk-toggleable {background-color: white;}#sk-container-id-2 label.sk-toggleable__label {cursor: pointer;display: block;width: 100%;margin-bottom: 0;padding: 0.3em;box-sizing: border-box;text-align: center;}#sk-container-id-2 label.sk-toggleable__label-arrow:before {content: \"▸\";float: left;margin-right: 0.25em;color: #696969;}#sk-container-id-2 label.sk-toggleable__label-arrow:hover:before {color: black;}#sk-container-id-2 div.sk-estimator:hover label.sk-toggleable__label-arrow:before {color: black;}#sk-container-id-2 div.sk-toggleable__content {max-height: 0;max-width: 0;overflow: hidden;text-align: left;background-color: #f0f8ff;}#sk-container-id-2 div.sk-toggleable__content pre {margin: 0.2em;color: black;border-radius: 0.25em;background-color: #f0f8ff;}#sk-container-id-2 input.sk-toggleable__control:checked~div.sk-toggleable__content {max-height: 200px;max-width: 100%;overflow: auto;}#sk-container-id-2 input.sk-toggleable__control:checked~label.sk-toggleable__label-arrow:before {content: \"▾\";}#sk-container-id-2 div.sk-estimator input.sk-toggleable__control:checked~label.sk-toggleable__label {background-color: #d4ebff;}#sk-container-id-2 div.sk-label input.sk-toggleable__control:checked~label.sk-toggleable__label {background-color: #d4ebff;}#sk-container-id-2 input.sk-hidden--visually {border: 0;clip: rect(1px 1px 1px 1px);clip: rect(1px, 1px, 1px, 1px);height: 1px;margin: -1px;overflow: hidden;padding: 0;position: absolute;width: 1px;}#sk-container-id-2 div.sk-estimator {font-family: monospace;background-color: #f0f8ff;border: 1px dotted black;border-radius: 0.25em;box-sizing: border-box;margin-bottom: 0.5em;}#sk-container-id-2 div.sk-estimator:hover {background-color: #d4ebff;}#sk-container-id-2 div.sk-parallel-item::after {content: \"\";width: 100%;border-bottom: 1px solid gray;flex-grow: 1;}#sk-container-id-2 div.sk-label:hover label.sk-toggleable__label {background-color: #d4ebff;}#sk-container-id-2 div.sk-serial::before {content: \"\";position: absolute;border-left: 1px solid gray;box-sizing: border-box;top: 0;bottom: 0;left: 50%;z-index: 0;}#sk-container-id-2 div.sk-serial {display: flex;flex-direction: column;align-items: center;background-color: white;padding-right: 0.2em;padding-left: 0.2em;position: relative;}#sk-container-id-2 div.sk-item {position: relative;z-index: 1;}#sk-container-id-2 div.sk-parallel {display: flex;align-items: stretch;justify-content: center;background-color: white;position: relative;}#sk-container-id-2 div.sk-item::before, #sk-container-id-2 div.sk-parallel-item::before {content: \"\";position: absolute;border-left: 1px solid gray;box-sizing: border-box;top: 0;bottom: 0;left: 50%;z-index: -1;}#sk-container-id-2 div.sk-parallel-item {display: flex;flex-direction: column;z-index: 1;position: relative;background-color: white;}#sk-container-id-2 div.sk-parallel-item:first-child::after {align-self: flex-end;width: 50%;}#sk-container-id-2 div.sk-parallel-item:last-child::after {align-self: flex-start;width: 50%;}#sk-container-id-2 div.sk-parallel-item:only-child::after {width: 0;}#sk-container-id-2 div.sk-dashed-wrapped {border: 1px dashed gray;margin: 0 0.4em 0.5em 0.4em;box-sizing: border-box;padding-bottom: 0.4em;background-color: white;}#sk-container-id-2 div.sk-label label {font-family: monospace;font-weight: bold;display: inline-block;line-height: 1.2em;}#sk-container-id-2 div.sk-label-container {text-align: center;}#sk-container-id-2 div.sk-container {/* jupyter's `normalize.less` sets `[hidden] { display: none; }` but bootstrap.min.css set `[hidden] { display: none !important; }` so we also need the `!important` here to be able to override the default hidden behavior on the sphinx rendered scikit-learn.org. See: https://github.com/scikit-learn/scikit-learn/issues/21755 */display: inline-block !important;position: relative;}#sk-container-id-2 div.sk-text-repr-fallback {display: none;}</style><div id=\"sk-container-id-2\" class=\"sk-top-container\"><div class=\"sk-text-repr-fallback\"><pre>Pipeline(steps=[(&#x27;scaler&#x27;, RobustScaler()), (&#x27;regression&#x27;, LinearRegression())])</pre><b>In a Jupyter environment, please rerun this cell to show the HTML representation or trust the notebook. <br />On GitHub, the HTML representation is unable to render, please try loading this page with nbviewer.org.</b></div><div class=\"sk-container\" hidden><div class=\"sk-item sk-dashed-wrapped\"><div class=\"sk-label-container\"><div class=\"sk-label sk-toggleable\"><input class=\"sk-toggleable__control sk-hidden--visually\" id=\"sk-estimator-id-3\" type=\"checkbox\" ><label for=\"sk-estimator-id-3\" class=\"sk-toggleable__label sk-toggleable__label-arrow\">Pipeline</label><div class=\"sk-toggleable__content\"><pre>Pipeline(steps=[(&#x27;scaler&#x27;, RobustScaler()), (&#x27;regression&#x27;, LinearRegression())])</pre></div></div></div><div class=\"sk-serial\"><div class=\"sk-item\"><div class=\"sk-estimator sk-toggleable\"><input class=\"sk-toggleable__control sk-hidden--visually\" id=\"sk-estimator-id-4\" type=\"checkbox\" ><label for=\"sk-estimator-id-4\" class=\"sk-toggleable__label sk-toggleable__label-arrow\">RobustScaler</label><div class=\"sk-toggleable__content\"><pre>RobustScaler()</pre></div></div></div><div class=\"sk-item\"><div class=\"sk-estimator sk-toggleable\"><input class=\"sk-toggleable__control sk-hidden--visually\" id=\"sk-estimator-id-5\" type=\"checkbox\" ><label for=\"sk-estimator-id-5\" class=\"sk-toggleable__label sk-toggleable__label-arrow\">LinearRegression</label><div class=\"sk-toggleable__content\"><pre>LinearRegression()</pre></div></div></div></div></div></div></div>"
      ],
      "text/plain": [
       "Pipeline(steps=[('scaler', RobustScaler()), ('regression', LinearRegression())])"
      ]
     },
     "execution_count": 22,
     "metadata": {},
     "output_type": "execute_result"
    }
   ],
   "source": [
    "# Entraîner le modèle sur les données de formation\n",
    "pipeline.fit(X_train, y_train)"
   ]
  },
  {
   "cell_type": "code",
   "execution_count": 23,
   "id": "dd2ae54a",
   "metadata": {},
   "outputs": [],
   "source": [
    "# Faire des prédictions sur les données de test\n",
    "y_pred = pipeline.predict(X_test)"
   ]
  },
  {
   "cell_type": "code",
   "execution_count": 24,
   "id": "aa767ac3",
   "metadata": {},
   "outputs": [
    {
     "name": "stdout",
     "output_type": "stream",
     "text": [
      "MAE : 50523.82321189527\n",
      "R2 score : 0.6510124588022759\n",
      "MSE : 4784663574.560258\n",
      "RMSE : 69171.26263528994\n"
     ]
    }
   ],
   "source": [
    "# Calculer les metrics\n",
    "mae = mean_absolute_error(y_test, y_pred)\n",
    "r2 = r2_score(y_test, y_pred)\n",
    "mse = mean_squared_error(y_test, y_pred)\n",
    "rmse = np.sqrt(mse)\n",
    "\n",
    "\n",
    "# Imprimer les scores\n",
    "print(\"MAE :\", mae)\n",
    "print(\"R2 score :\", r2)\n",
    "print(\"MSE :\", mse)\n",
    "print(\"RMSE :\", rmse)"
   ]
  },
  {
   "cell_type": "code",
   "execution_count": 25,
   "id": "67ebb60c",
   "metadata": {},
   "outputs": [
    {
     "name": "stdout",
     "output_type": "stream",
     "text": [
      "MAE moyen pour la validation croisée : 49526.23555808291\n"
     ]
    }
   ],
   "source": [
    "# Effectuer la validation croisée\n",
    "scores = cross_val_score(pipeline, X_train, y_train, scoring='neg_mean_absolute_error', cv=10)\n",
    "print(\"MAE moyen pour la validation croisée :\", -scores.mean())"
   ]
  },
  {
   "cell_type": "code",
   "execution_count": 26,
   "id": "09acac80",
   "metadata": {},
   "outputs": [],
   "source": [
    "# Enregistrer le modèle dans un fichier pickle\n",
    "pickle.dump(pipeline, open(\"model_robust.pkl\", \"wb\"))"
   ]
  }
 ],
 "metadata": {
  "kernelspec": {
   "display_name": "Python 3 (ipykernel)",
   "language": "python",
   "name": "python3"
  },
  "language_info": {
   "codemirror_mode": {
    "name": "ipython",
    "version": 3
   },
   "file_extension": ".py",
   "mimetype": "text/x-python",
   "name": "python",
   "nbconvert_exporter": "python",
   "pygments_lexer": "ipython3",
   "version": "3.8.12"
  },
  "toc": {
   "base_numbering": 1,
   "nav_menu": {},
   "number_sections": true,
   "sideBar": true,
   "skip_h1_title": false,
   "title_cell": "Table of Contents",
   "title_sidebar": "Contents",
   "toc_cell": false,
   "toc_position": {},
   "toc_section_display": true,
   "toc_window_display": false
  }
 },
 "nbformat": 4,
 "nbformat_minor": 5
}
