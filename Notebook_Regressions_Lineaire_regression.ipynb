{
 "cells": [
  {
   "cell_type": "code",
   "execution_count": 1,
   "id": "a137b0a7",
   "metadata": {},
   "outputs": [],
   "source": [
    "import pandas as pd\n",
    "import numpy as np\n",
    "import seaborn as sns\n",
    "import matplotlib.pyplot as plt\n",
    "\n",
    "from sklearn.model_selection import train_test_split\n",
    "from sklearn.linear_model import LinearRegression\n",
    "from sklearn.model_selection import cross_validate"
   ]
  },
  {
   "cell_type": "code",
   "execution_count": 6,
   "id": "c7e858f4",
   "metadata": {},
   "outputs": [],
   "source": [
    "df = pd.read_csv('Data/df.csv')\n",
    "df_normalized = pd.read_csv('Data/df_normalized.csv')\n",
    "df_rob = pd.read_csv('Data/df_RobScaled.csv')"
   ]
  },
  {
   "cell_type": "code",
   "execution_count": 7,
   "id": "1978427c",
   "metadata": {},
   "outputs": [],
   "source": [
    "df_med = pd.read_csv('Data/df_outliers_median.csv')\n",
    "df_med_norm = pd.read_csv('Data/df_outliers_median_normalized.csv')\n",
    "df_med_rob = pd.read_csv('Data/df_median_out_RobScaled.csv')"
   ]
  },
  {
   "cell_type": "code",
   "execution_count": 8,
   "id": "f7051f24",
   "metadata": {},
   "outputs": [],
   "source": [
    "df_ss = pd.read_csv('Data/df_sans_outliers.csv')\n",
    "df_ss_norm = pd.read_csv('Data/df_sans_outliers_normalized.csv')\n",
    "df_ss_rob = pd.read_csv('Data/df_s_outliers_RobScaled.csv')"
   ]
  },
  {
   "cell_type": "code",
   "execution_count": 11,
   "id": "14c6eb28",
   "metadata": {},
   "outputs": [],
   "source": [
    "df_norm = df_normalized.drop(['Unnamed: 0'], axis=1)"
   ]
  },
  {
   "cell_type": "markdown",
   "id": "7601674a",
   "metadata": {},
   "source": [
    "# 1 iteration "
   ]
  },
  {
   "cell_type": "code",
   "execution_count": 12,
   "id": "a21f7c41",
   "metadata": {},
   "outputs": [
    {
     "data": {
      "text/plain": [
       "0.6549691083003384"
      ]
     },
     "execution_count": 12,
     "metadata": {},
     "output_type": "execute_result"
    }
   ],
   "source": [
    "X = df_norm.drop(['median_house_value'], axis=1)\n",
    "y = df_norm['median_house_value']\n",
    "\n",
    "# Splitting the data\n",
    "X_train, X_test, y_train, y_test = train_test_split(X, y, test_size=.3, random_state=1)\n",
    "\n",
    "# Choose your model\n",
    "model = LinearRegression()\n",
    "\n",
    "# Fit the model with the train set\n",
    "model.fit(X_train, y_train)\n",
    "\n",
    "# Evaluate the model with the test set\n",
    "model.score(X_test, y_test)"
   ]
  },
  {
   "cell_type": "code",
   "execution_count": 14,
   "id": "f429448b",
   "metadata": {},
   "outputs": [
    {
     "name": "stdout",
     "output_type": "stream",
     "text": [
      "Average R2:  0.6459482050884272 // Average RMSE:  68566.19471516294 // Average MAE: 49689.84119108304\n"
     ]
    }
   ],
   "source": [
    "scores = cross_validate(model, X, y, cv=5, scoring=('r2', 'neg_root_mean_squared_error','neg_mean_absolute_error'))\n",
    "\n",
    "average_r2 = scores['test_r2'].mean()\n",
    "average_rmse = -scores['test_neg_root_mean_squared_error'].mean()\n",
    "average_mae = -scores['test_neg_mean_absolute_error'].mean()\n",
    "print(\"Average R2: \", average_r2, \"// Average RMSE: \", average_rmse, \"// Average MAE:\", average_mae)"
   ]
  },
  {
   "cell_type": "code",
   "execution_count": null,
   "id": "7a824470",
   "metadata": {},
   "outputs": [],
   "source": []
  }
 ],
 "metadata": {
  "kernelspec": {
   "display_name": "Python 3 (ipykernel)",
   "language": "python",
   "name": "python3"
  },
  "language_info": {
   "codemirror_mode": {
    "name": "ipython",
    "version": 3
   },
   "file_extension": ".py",
   "mimetype": "text/x-python",
   "name": "python",
   "nbconvert_exporter": "python",
   "pygments_lexer": "ipython3",
   "version": "3.8.12"
  },
  "toc": {
   "base_numbering": 1,
   "nav_menu": {},
   "number_sections": true,
   "sideBar": true,
   "skip_h1_title": false,
   "title_cell": "Table of Contents",
   "title_sidebar": "Contents",
   "toc_cell": false,
   "toc_position": {},
   "toc_section_display": true,
   "toc_window_display": false
  }
 },
 "nbformat": 4,
 "nbformat_minor": 5
}
