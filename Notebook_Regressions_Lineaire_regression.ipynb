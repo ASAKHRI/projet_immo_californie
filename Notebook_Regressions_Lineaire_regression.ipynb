{
 "cells": [
  {
   "cell_type": "code",
   "execution_count": 1,
   "id": "8d465eb6",
   "metadata": {},
   "outputs": [],
   "source": [
    "import pandas as pd\n",
    "import numpy as np\n",
    "import seaborn as sns\n",
    "import matplotlib.pyplot as plt\n",
    "\n",
    "from sklearn.model_selection import train_test_split\n",
    "from sklearn.linear_model import LinearRegression\n",
    "from sklearn.model_selection import cross_validate"
   ]
  },
  {
   "cell_type": "code",
   "execution_count": 2,
   "id": "324f562a",
   "metadata": {},
   "outputs": [],
   "source": [
    "df = pd.read_csv('Data/df.csv')\n",
    "df_normalized = pd.read_csv('Data/df_normalized.csv')\n",
    "df_rob = pd.read_csv('Data/df_RobScaled.csv')"
   ]
  },
  {
   "cell_type": "code",
   "execution_count": 3,
   "id": "5b9ae0bf",
   "metadata": {},
   "outputs": [],
   "source": [
    "df_med = pd.read_csv('Data/df_outliers_median.csv')\n",
    "df_med_norm = pd.read_csv('Data/df_outliers_median_normalized.csv')\n",
    "df_med_rob = pd.read_csv('Data/df_median_out_RobScaled.csv')"
   ]
  },
  {
   "cell_type": "code",
   "execution_count": 4,
   "id": "fe597a90",
   "metadata": {},
   "outputs": [],
   "source": [
    "df_ss = pd.read_csv('Data/df_sans_outliers.csv')\n",
    "df_ss_norm = pd.read_csv('Data/df_sans_outliers_normalized.csv')\n",
    "df_ss_rob = pd.read_csv('Data/df_s_outliers_RobScaled.csv')"
   ]
  },
  {
   "cell_type": "code",
   "execution_count": 5,
   "id": "e18acb4a",
   "metadata": {},
   "outputs": [],
   "source": [
    "df_norm = df_normalized.drop(['Unnamed: 0'], axis=1)"
   ]
  },
  {
   "cell_type": "markdown",
   "id": "8f5ef912",
   "metadata": {},
   "source": [
    "# 1 iteration "
   ]
  },
  {
   "cell_type": "code",
   "execution_count": 6,
   "id": "27f6f698",
   "metadata": {},
   "outputs": [
    {
     "data": {
      "text/plain": [
       "0.6549691083003384"
      ]
     },
     "execution_count": 6,
     "metadata": {},
     "output_type": "execute_result"
    }
   ],
   "source": [
    "X = df_norm.drop(['median_house_value'], axis=1)\n",
    "y = df_norm['median_house_value']\n",
    "\n",
    "# Splitting the data\n",
    "X_train, X_test, y_train, y_test = train_test_split(X, y, test_size=.3, random_state=1)\n",
    "\n",
    "# Choose your model\n",
    "model = LinearRegression()\n",
    "\n",
    "# Fit the model with the train set\n",
    "model.fit(X_train, y_train)\n",
    "\n",
    "# Evaluate the model with the test set\n",
    "model.score(X_test, y_test)"
   ]
  },
  {
   "cell_type": "code",
   "execution_count": 7,
   "id": "6f6a8890",
   "metadata": {},
   "outputs": [
    {
     "name": "stdout",
     "output_type": "stream",
     "text": [
      "Average R2:  0.6459482050884272 // Average RMSE:  68566.19471516294 // Average MAE: 49689.84119108304\n"
     ]
    }
   ],
   "source": [
    "scores = cross_validate(model, X, y, cv=5, scoring=('r2', 'neg_root_mean_squared_error','neg_mean_absolute_error'))\n",
    "\n",
    "average_r2 = scores['test_r2'].mean()\n",
    "average_rmse = -scores['test_neg_root_mean_squared_error'].mean()\n",
    "average_mae = -scores['test_neg_mean_absolute_error'].mean()\n",
    "print(\"Average R2: \", average_r2, \"// Average RMSE: \", average_rmse, \"// Average MAE:\", average_mae)"
   ]
  },
  {
   "cell_type": "markdown",
   "id": "7f6b3421",
   "metadata": {},
   "source": [
    "# 2 iteration"
   ]
  },
  {
   "cell_type": "code",
   "execution_count": 8,
   "id": "296490fc",
   "metadata": {},
   "outputs": [],
   "source": [
    "df_rob = df_rob.drop('Unnamed: 0', axis=1)"
   ]
  },
  {
   "cell_type": "code",
   "execution_count": 9,
   "id": "684e56bb",
   "metadata": {},
   "outputs": [
    {
     "data": {
      "text/plain": [
       "0.6549691083003384"
      ]
     },
     "execution_count": 9,
     "metadata": {},
     "output_type": "execute_result"
    }
   ],
   "source": [
    "X = df_norm.drop(['median_house_value'], axis=1)\n",
    "y = df_norm['median_house_value']\n",
    "\n",
    "# Splitting the data\n",
    "X_train, X_test, y_train, y_test = train_test_split(X, y, test_size=.3, random_state=1)\n",
    "\n",
    "# Choose your model\n",
    "model = LinearRegression()\n",
    "\n",
    "# Fit the model with the train set\n",
    "model.fit(X_train, y_train)\n",
    "\n",
    "# Evaluate the model with the test set\n",
    "model.score(X_test, y_test)"
   ]
  },
  {
   "cell_type": "code",
   "execution_count": 10,
   "id": "b7088ead",
   "metadata": {},
   "outputs": [
    {
     "name": "stdout",
     "output_type": "stream",
     "text": [
      "Average R2:  0.6459482050884272 // Average RMSE:  68566.19471516294 // Average MAE: 49689.84119108304\n"
     ]
    }
   ],
   "source": [
    "scores = cross_validate(model, X, y, cv=5, scoring=('r2', 'neg_root_mean_squared_error','neg_mean_absolute_error'))\n",
    "\n",
    "average_r2 = scores['test_r2'].mean()\n",
    "average_rmse = -scores['test_neg_root_mean_squared_error'].mean()\n",
    "average_mae = -scores['test_neg_mean_absolute_error'].mean()\n",
    "print(\"Average R2: \", average_r2, \"// Average RMSE: \", average_rmse, \"// Average MAE:\", average_mae)"
   ]
  },
  {
   "cell_type": "markdown",
   "id": "1a2d11cd",
   "metadata": {},
   "source": [
    "# iteration 3"
   ]
  },
  {
   "cell_type": "code",
   "execution_count": 11,
   "id": "de3a0119",
   "metadata": {},
   "outputs": [],
   "source": [
    "df_med_norm = df_med_norm.drop('Unnamed: 0', axis=1)"
   ]
  },
  {
   "cell_type": "code",
   "execution_count": 12,
   "id": "61738de3",
   "metadata": {},
   "outputs": [
    {
     "data": {
      "text/plain": [
       "0.6549691083003384"
      ]
     },
     "execution_count": 12,
     "metadata": {},
     "output_type": "execute_result"
    }
   ],
   "source": [
    "X = df_med_norm.drop(['median_house_value'], axis=1)\n",
    "y = df_med_norm['median_house_value']\n",
    "\n",
    "# Splitting the data\n",
    "X_train, X_test, y_train, y_test = train_test_split(X, y, test_size=.3, random_state=1)\n",
    "\n",
    "# Choose your model\n",
    "model = LinearRegression()\n",
    "\n",
    "# Fit the model with the train set\n",
    "model.fit(X_train, y_train)\n",
    "\n",
    "# Evaluate the model with the test set\n",
    "model.score(X_test, y_test)"
   ]
  },
  {
   "cell_type": "code",
   "execution_count": 13,
   "id": "0e25521f",
   "metadata": {},
   "outputs": [
    {
     "name": "stdout",
     "output_type": "stream",
     "text": [
      "Average R2:  0.6459482050884272 // Average RMSE:  68566.19471516294 // Average MAE: 49689.84119108304\n"
     ]
    }
   ],
   "source": [
    "scores = cross_validate(model, X, y, cv=5, scoring=('r2', 'neg_root_mean_squared_error','neg_mean_absolute_error'))\n",
    "\n",
    "average_r2 = scores['test_r2'].mean()\n",
    "average_rmse = -scores['test_neg_root_mean_squared_error'].mean()\n",
    "average_mae = -scores['test_neg_mean_absolute_error'].mean()\n",
    "print(\"Average R2: \", average_r2, \"// Average RMSE: \", average_rmse, \"// Average MAE:\", average_mae)"
   ]
  },
  {
   "cell_type": "markdown",
   "id": "82828b2e",
   "metadata": {},
   "source": [
    "# iteration 4"
   ]
  },
  {
   "cell_type": "code",
   "execution_count": 14,
   "id": "7067095d",
   "metadata": {},
   "outputs": [
    {
     "data": {
      "text/html": [
       "<div>\n",
       "<style scoped>\n",
       "    .dataframe tbody tr th:only-of-type {\n",
       "        vertical-align: middle;\n",
       "    }\n",
       "\n",
       "    .dataframe tbody tr th {\n",
       "        vertical-align: top;\n",
       "    }\n",
       "\n",
       "    .dataframe thead th {\n",
       "        text-align: right;\n",
       "    }\n",
       "</style>\n",
       "<table border=\"1\" class=\"dataframe\">\n",
       "  <thead>\n",
       "    <tr style=\"text-align: right;\">\n",
       "      <th></th>\n",
       "      <th>Unnamed: 0</th>\n",
       "      <th>longitude</th>\n",
       "      <th>latitude</th>\n",
       "      <th>housing_median_age</th>\n",
       "      <th>total_rooms</th>\n",
       "      <th>total_bedrooms</th>\n",
       "      <th>population</th>\n",
       "      <th>households</th>\n",
       "      <th>median_income</th>\n",
       "      <th>median_house_value</th>\n",
       "      <th>&lt;1H OCEAN</th>\n",
       "      <th>INLAND</th>\n",
       "      <th>ISLAND</th>\n",
       "      <th>NEAR BAY</th>\n",
       "      <th>NEAR OCEAN</th>\n",
       "    </tr>\n",
       "  </thead>\n",
       "  <tbody>\n",
       "    <tr>\n",
       "      <th>0</th>\n",
       "      <td>0</td>\n",
       "      <td>-0.357143</td>\n",
       "      <td>0.664908</td>\n",
       "      <td>-1.210526</td>\n",
       "      <td>-0.153914</td>\n",
       "      <td>0.108262</td>\n",
       "      <td>0.242328</td>\n",
       "      <td>0.021472</td>\n",
       "      <td>-0.944277</td>\n",
       "      <td>72000.0</td>\n",
       "      <td>0.0</td>\n",
       "      <td>1.0</td>\n",
       "      <td>0.0</td>\n",
       "      <td>0.0</td>\n",
       "      <td>0.0</td>\n",
       "    </tr>\n",
       "    <tr>\n",
       "      <th>1</th>\n",
       "      <td>1</td>\n",
       "      <td>0.182540</td>\n",
       "      <td>-0.150396</td>\n",
       "      <td>-1.105263</td>\n",
       "      <td>-0.048759</td>\n",
       "      <td>-0.245014</td>\n",
       "      <td>-0.323810</td>\n",
       "      <td>-0.214724</td>\n",
       "      <td>1.558130</td>\n",
       "      <td>274100.0</td>\n",
       "      <td>1.0</td>\n",
       "      <td>0.0</td>\n",
       "      <td>0.0</td>\n",
       "      <td>0.0</td>\n",
       "      <td>0.0</td>\n",
       "    </tr>\n",
       "    <tr>\n",
       "      <th>2</th>\n",
       "      <td>2</td>\n",
       "      <td>-0.449735</td>\n",
       "      <td>0.620053</td>\n",
       "      <td>-0.210526</td>\n",
       "      <td>-0.728448</td>\n",
       "      <td>-0.629630</td>\n",
       "      <td>-0.250794</td>\n",
       "      <td>-0.601227</td>\n",
       "      <td>-0.911152</td>\n",
       "      <td>58300.0</td>\n",
       "      <td>0.0</td>\n",
       "      <td>1.0</td>\n",
       "      <td>0.0</td>\n",
       "      <td>0.0</td>\n",
       "      <td>0.0</td>\n",
       "    </tr>\n",
       "    <tr>\n",
       "      <th>3</th>\n",
       "      <td>3</td>\n",
       "      <td>0.044974</td>\n",
       "      <td>-0.039578</td>\n",
       "      <td>0.105263</td>\n",
       "      <td>-0.877074</td>\n",
       "      <td>-0.586895</td>\n",
       "      <td>-0.604233</td>\n",
       "      <td>-0.561350</td>\n",
       "      <td>-0.922762</td>\n",
       "      <td>200000.0</td>\n",
       "      <td>1.0</td>\n",
       "      <td>0.0</td>\n",
       "      <td>0.0</td>\n",
       "      <td>0.0</td>\n",
       "      <td>0.0</td>\n",
       "    </tr>\n",
       "    <tr>\n",
       "      <th>4</th>\n",
       "      <td>4</td>\n",
       "      <td>-0.724868</td>\n",
       "      <td>0.934037</td>\n",
       "      <td>-0.421053</td>\n",
       "      <td>-0.113379</td>\n",
       "      <td>-0.176638</td>\n",
       "      <td>-0.040212</td>\n",
       "      <td>-0.116564</td>\n",
       "      <td>0.253484</td>\n",
       "      <td>117900.0</td>\n",
       "      <td>0.0</td>\n",
       "      <td>1.0</td>\n",
       "      <td>0.0</td>\n",
       "      <td>0.0</td>\n",
       "      <td>0.0</td>\n",
       "    </tr>\n",
       "    <tr>\n",
       "      <th>...</th>\n",
       "      <td>...</td>\n",
       "      <td>...</td>\n",
       "      <td>...</td>\n",
       "      <td>...</td>\n",
       "      <td>...</td>\n",
       "      <td>...</td>\n",
       "      <td>...</td>\n",
       "      <td>...</td>\n",
       "      <td>...</td>\n",
       "      <td>...</td>\n",
       "      <td>...</td>\n",
       "      <td>...</td>\n",
       "      <td>...</td>\n",
       "      <td>...</td>\n",
       "      <td>...</td>\n",
       "    </tr>\n",
       "    <tr>\n",
       "      <th>16331</th>\n",
       "      <td>16331</td>\n",
       "      <td>-0.902116</td>\n",
       "      <td>1.408971</td>\n",
       "      <td>-0.473684</td>\n",
       "      <td>-0.381848</td>\n",
       "      <td>-0.447293</td>\n",
       "      <td>-0.447619</td>\n",
       "      <td>-0.490798</td>\n",
       "      <td>-0.215982</td>\n",
       "      <td>93800.0</td>\n",
       "      <td>0.0</td>\n",
       "      <td>1.0</td>\n",
       "      <td>0.0</td>\n",
       "      <td>0.0</td>\n",
       "      <td>0.0</td>\n",
       "    </tr>\n",
       "    <tr>\n",
       "      <th>16332</th>\n",
       "      <td>16332</td>\n",
       "      <td>-0.994709</td>\n",
       "      <td>1.018470</td>\n",
       "      <td>1.052632</td>\n",
       "      <td>0.146864</td>\n",
       "      <td>0.196581</td>\n",
       "      <td>-0.039153</td>\n",
       "      <td>0.147239</td>\n",
       "      <td>-0.422934</td>\n",
       "      <td>103100.0</td>\n",
       "      <td>0.0</td>\n",
       "      <td>0.0</td>\n",
       "      <td>0.0</td>\n",
       "      <td>1.0</td>\n",
       "      <td>0.0</td>\n",
       "    </tr>\n",
       "    <tr>\n",
       "      <th>16333</th>\n",
       "      <td>16333</td>\n",
       "      <td>-0.722222</td>\n",
       "      <td>1.232190</td>\n",
       "      <td>-0.526316</td>\n",
       "      <td>0.244382</td>\n",
       "      <td>0.074074</td>\n",
       "      <td>0.040212</td>\n",
       "      <td>0.058282</td>\n",
       "      <td>0.444357</td>\n",
       "      <td>192600.0</td>\n",
       "      <td>0.0</td>\n",
       "      <td>1.0</td>\n",
       "      <td>0.0</td>\n",
       "      <td>0.0</td>\n",
       "      <td>0.0</td>\n",
       "    </tr>\n",
       "    <tr>\n",
       "      <th>16334</th>\n",
       "      <td>16334</td>\n",
       "      <td>0.092593</td>\n",
       "      <td>-0.023747</td>\n",
       "      <td>0.526316</td>\n",
       "      <td>0.388310</td>\n",
       "      <td>1.153846</td>\n",
       "      <td>1.458201</td>\n",
       "      <td>1.113497</td>\n",
       "      <td>-0.440580</td>\n",
       "      <td>153500.0</td>\n",
       "      <td>1.0</td>\n",
       "      <td>0.0</td>\n",
       "      <td>0.0</td>\n",
       "      <td>0.0</td>\n",
       "      <td>0.0</td>\n",
       "    </tr>\n",
       "    <tr>\n",
       "      <th>16335</th>\n",
       "      <td>16335</td>\n",
       "      <td>-1.492063</td>\n",
       "      <td>1.728232</td>\n",
       "      <td>0.105263</td>\n",
       "      <td>0.021736</td>\n",
       "      <td>0.076923</td>\n",
       "      <td>0.096296</td>\n",
       "      <td>0.030675</td>\n",
       "      <td>-0.591325</td>\n",
       "      <td>81100.0</td>\n",
       "      <td>0.0</td>\n",
       "      <td>0.0</td>\n",
       "      <td>0.0</td>\n",
       "      <td>0.0</td>\n",
       "      <td>1.0</td>\n",
       "    </tr>\n",
       "  </tbody>\n",
       "</table>\n",
       "<p>16336 rows × 15 columns</p>\n",
       "</div>"
      ],
      "text/plain": [
       "       Unnamed: 0  longitude  latitude  housing_median_age  total_rooms  \\\n",
       "0               0  -0.357143  0.664908           -1.210526    -0.153914   \n",
       "1               1   0.182540 -0.150396           -1.105263    -0.048759   \n",
       "2               2  -0.449735  0.620053           -0.210526    -0.728448   \n",
       "3               3   0.044974 -0.039578            0.105263    -0.877074   \n",
       "4               4  -0.724868  0.934037           -0.421053    -0.113379   \n",
       "...           ...        ...       ...                 ...          ...   \n",
       "16331       16331  -0.902116  1.408971           -0.473684    -0.381848   \n",
       "16332       16332  -0.994709  1.018470            1.052632     0.146864   \n",
       "16333       16333  -0.722222  1.232190           -0.526316     0.244382   \n",
       "16334       16334   0.092593 -0.023747            0.526316     0.388310   \n",
       "16335       16335  -1.492063  1.728232            0.105263     0.021736   \n",
       "\n",
       "       total_bedrooms  population  households  median_income  \\\n",
       "0            0.108262    0.242328    0.021472      -0.944277   \n",
       "1           -0.245014   -0.323810   -0.214724       1.558130   \n",
       "2           -0.629630   -0.250794   -0.601227      -0.911152   \n",
       "3           -0.586895   -0.604233   -0.561350      -0.922762   \n",
       "4           -0.176638   -0.040212   -0.116564       0.253484   \n",
       "...               ...         ...         ...            ...   \n",
       "16331       -0.447293   -0.447619   -0.490798      -0.215982   \n",
       "16332        0.196581   -0.039153    0.147239      -0.422934   \n",
       "16333        0.074074    0.040212    0.058282       0.444357   \n",
       "16334        1.153846    1.458201    1.113497      -0.440580   \n",
       "16335        0.076923    0.096296    0.030675      -0.591325   \n",
       "\n",
       "       median_house_value  <1H OCEAN  INLAND  ISLAND  NEAR BAY  NEAR OCEAN  \n",
       "0                 72000.0        0.0     1.0     0.0       0.0         0.0  \n",
       "1                274100.0        1.0     0.0     0.0       0.0         0.0  \n",
       "2                 58300.0        0.0     1.0     0.0       0.0         0.0  \n",
       "3                200000.0        1.0     0.0     0.0       0.0         0.0  \n",
       "4                117900.0        0.0     1.0     0.0       0.0         0.0  \n",
       "...                   ...        ...     ...     ...       ...         ...  \n",
       "16331             93800.0        0.0     1.0     0.0       0.0         0.0  \n",
       "16332            103100.0        0.0     0.0     0.0       1.0         0.0  \n",
       "16333            192600.0        0.0     1.0     0.0       0.0         0.0  \n",
       "16334            153500.0        1.0     0.0     0.0       0.0         0.0  \n",
       "16335             81100.0        0.0     0.0     0.0       0.0         1.0  \n",
       "\n",
       "[16336 rows x 15 columns]"
      ]
     },
     "execution_count": 14,
     "metadata": {},
     "output_type": "execute_result"
    }
   ],
   "source": [
    "df_med_rob"
   ]
  },
  {
   "cell_type": "code",
   "execution_count": 15,
   "id": "2371c4a6",
   "metadata": {},
   "outputs": [
    {
     "data": {
      "text/plain": [
       "0.6608236505232412"
      ]
     },
     "execution_count": 15,
     "metadata": {},
     "output_type": "execute_result"
    }
   ],
   "source": [
    "X = df_med_rob.drop(['median_house_value'], axis=1)\n",
    "y = df_med_rob['median_house_value']\n",
    "\n",
    "# Splitting the data\n",
    "X_train, X_test, y_train, y_test = train_test_split(X, y, test_size=.3, random_state=1)\n",
    "\n",
    "# Choose your model\n",
    "model = LinearRegression()\n",
    "\n",
    "# Fit the model with the train set\n",
    "model.fit(X_train, y_train)\n",
    "\n",
    "# Evaluate the model with the test set\n",
    "model.score(X_test, y_test)"
   ]
  },
  {
   "cell_type": "code",
   "execution_count": 16,
   "id": "5903c984",
   "metadata": {},
   "outputs": [
    {
     "name": "stdout",
     "output_type": "stream",
     "text": [
      "Average R2:  0.6545833010507129 // Average RMSE:  67722.81249648707 // Average MAE: 49598.75814534384\n"
     ]
    }
   ],
   "source": [
    "scores = cross_validate(model, X, y, cv=5, scoring=('r2', 'neg_root_mean_squared_error','neg_mean_absolute_error'))\n",
    "\n",
    "average_r2 = scores['test_r2'].mean()\n",
    "average_rmse = -scores['test_neg_root_mean_squared_error'].mean()\n",
    "average_mae = -scores['test_neg_mean_absolute_error'].mean()\n",
    "print(\"Average R2: \", average_r2, \"// Average RMSE: \", average_rmse, \"// Average MAE:\", average_mae)"
   ]
  },
  {
   "cell_type": "markdown",
   "id": "3aeba02c",
   "metadata": {},
   "source": [
    "# iteration 5"
   ]
  },
  {
   "cell_type": "code",
   "execution_count": 17,
   "id": "c2bfe4cb",
   "metadata": {},
   "outputs": [],
   "source": [
    "df_ss_norm = df_ss_norm.drop('Unnamed: 0', axis = 1)"
   ]
  },
  {
   "cell_type": "code",
   "execution_count": 18,
   "id": "46be40a2",
   "metadata": {},
   "outputs": [
    {
     "data": {
      "text/plain": [
       "0.6549691083003384"
      ]
     },
     "execution_count": 18,
     "metadata": {},
     "output_type": "execute_result"
    }
   ],
   "source": [
    "X = df_ss_norm.drop(['median_house_value'], axis=1)\n",
    "y = df_ss_norm['median_house_value']\n",
    "\n",
    "# Splitting the data\n",
    "X_train, X_test, y_train, y_test = train_test_split(X, y, test_size=.3, random_state=1)\n",
    "\n",
    "# Choose your model\n",
    "model = LinearRegression()\n",
    "\n",
    "# Fit the model with the train set\n",
    "model.fit(X_train, y_train)\n",
    "\n",
    "# Evaluate the model with the test set\n",
    "model.score(X_test, y_test)"
   ]
  },
  {
   "cell_type": "code",
   "execution_count": 19,
   "id": "a5f352d9",
   "metadata": {},
   "outputs": [
    {
     "name": "stdout",
     "output_type": "stream",
     "text": [
      "Average R2:  0.6459482050884272 // Average RMSE:  68566.19471516294 // Average MAE: 49689.84119108304\n"
     ]
    }
   ],
   "source": [
    "scores = cross_validate(model, X, y, cv=5, scoring=('r2', 'neg_root_mean_squared_error','neg_mean_absolute_error'))\n",
    "\n",
    "average_r2 = scores['test_r2'].mean()\n",
    "average_rmse = -scores['test_neg_root_mean_squared_error'].mean()\n",
    "average_mae = -scores['test_neg_mean_absolute_error'].mean()\n",
    "print(\"Average R2: \", average_r2, \"// Average RMSE: \", average_rmse, \"// Average MAE:\", average_mae)"
   ]
  },
  {
   "cell_type": "markdown",
   "id": "ca2040cb",
   "metadata": {},
   "source": [
    "# iteration 6"
   ]
  },
  {
   "cell_type": "code",
   "execution_count": 20,
   "id": "f90b8a90",
   "metadata": {},
   "outputs": [],
   "source": [
    "df_ss_rob = df_ss_rob.drop('Unnamed: 0', axis = 1)"
   ]
  },
  {
   "cell_type": "code",
   "execution_count": 21,
   "id": "04d50f51",
   "metadata": {},
   "outputs": [
    {
     "data": {
      "text/plain": [
       "0.6004831597504754"
      ]
     },
     "execution_count": 21,
     "metadata": {},
     "output_type": "execute_result"
    }
   ],
   "source": [
    "X = df_ss_rob.drop(['median_house_value'], axis=1)\n",
    "y = df_ss_rob['median_house_value']\n",
    "\n",
    "# Splitting the data\n",
    "X_train, X_test, y_train, y_test = train_test_split(X, y, test_size=.3, random_state=1)\n",
    "\n",
    "# Choose your model\n",
    "model = LinearRegression()\n",
    "\n",
    "# Fit the model with the train set\n",
    "model.fit(X_train, y_train)\n",
    "\n",
    "# Evaluate the model with the test set\n",
    "model.score(X_test, y_test)"
   ]
  },
  {
   "cell_type": "code",
   "execution_count": 22,
   "id": "b04496f6",
   "metadata": {},
   "outputs": [
    {
     "name": "stdout",
     "output_type": "stream",
     "text": [
      "Average R2:  0.6032811819987899 // Average RMSE:  65576.57981573541 // Average MAE: 47864.72996470081\n"
     ]
    }
   ],
   "source": [
    "scores = cross_validate(model, X, y, cv=5, scoring=('r2', 'neg_root_mean_squared_error','neg_mean_absolute_error'))\n",
    "\n",
    "average_r2 = scores['test_r2'].mean()\n",
    "average_rmse = -scores['test_neg_root_mean_squared_error'].mean()\n",
    "average_mae = -scores['test_neg_mean_absolute_error'].mean()\n",
    "print(\"Average R2: \", average_r2, \"// Average RMSE: \", average_rmse, \"// Average MAE:\", average_mae)"
   ]
  },
  {
   "cell_type": "code",
   "execution_count": null,
   "id": "b61d205c",
   "metadata": {},
   "outputs": [],
   "source": []
  }
 ],
 "metadata": {
  "kernelspec": {
   "display_name": "Python 3 (ipykernel)",
   "language": "python",
   "name": "python3"
  },
  "language_info": {
   "codemirror_mode": {
    "name": "ipython",
    "version": 3
   },
   "file_extension": ".py",
   "mimetype": "text/x-python",
   "name": "python",
   "nbconvert_exporter": "python",
   "pygments_lexer": "ipython3",
   "version": "3.8.12"
  },
  "toc": {
   "base_numbering": 1,
   "nav_menu": {},
   "number_sections": true,
   "sideBar": true,
   "skip_h1_title": false,
   "title_cell": "Table of Contents",
   "title_sidebar": "Contents",
   "toc_cell": false,
   "toc_position": {},
   "toc_section_display": true,
   "toc_window_display": false
  }
 },
 "nbformat": 4,
 "nbformat_minor": 5
}
